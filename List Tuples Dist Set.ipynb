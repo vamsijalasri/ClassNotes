{
 "cells": [
  {
   "cell_type": "code",
   "execution_count": 1,
   "id": "6e861ad2",
   "metadata": {},
   "outputs": [],
   "source": [
    "l =[1,2,3,\"Vamsi\",234.567,2+3j]"
   ]
  },
  {
   "cell_type": "code",
   "execution_count": 2,
   "id": "28f084c1",
   "metadata": {},
   "outputs": [
    {
     "data": {
      "text/plain": [
       "list"
      ]
     },
     "execution_count": 2,
     "metadata": {},
     "output_type": "execute_result"
    }
   ],
   "source": [
    "type(l)"
   ]
  },
  {
   "cell_type": "code",
   "execution_count": 3,
   "id": "42243d1d",
   "metadata": {},
   "outputs": [
    {
     "ename": "TypeError",
     "evalue": "can only concatenate list (not \"int\") to list",
     "output_type": "error",
     "traceback": [
      "\u001b[1;31m---------------------------------------------------------------------------\u001b[0m",
      "\u001b[1;31mTypeError\u001b[0m                                 Traceback (most recent call last)",
      "Input \u001b[1;32mIn [3]\u001b[0m, in \u001b[0;36m<cell line: 1>\u001b[1;34m()\u001b[0m\n\u001b[1;32m----> 1\u001b[0m \u001b[43ml\u001b[49m\u001b[38;5;241;43m+\u001b[39;49m\u001b[38;5;241;43m2\u001b[39;49m\n",
      "\u001b[1;31mTypeError\u001b[0m: can only concatenate list (not \"int\") to list"
     ]
    }
   ],
   "source": [
    "l+2"
   ]
  },
  {
   "cell_type": "code",
   "execution_count": 4,
   "id": "6227d393",
   "metadata": {},
   "outputs": [
    {
     "data": {
      "text/plain": [
       "[1, 2, 3, 'Vamsi', 234.567, (2+3j), 1, 2, 3, 'Vamsi', 234.567, (2+3j)]"
      ]
     },
     "execution_count": 4,
     "metadata": {},
     "output_type": "execute_result"
    }
   ],
   "source": [
    "l* 2"
   ]
  },
  {
   "cell_type": "code",
   "execution_count": 6,
   "id": "3c7a3319",
   "metadata": {},
   "outputs": [
    {
     "data": {
      "text/plain": [
       "True"
      ]
     },
     "execution_count": 6,
     "metadata": {},
     "output_type": "execute_result"
    }
   ],
   "source": [
    "\"Vamsi\" in l"
   ]
  },
  {
   "cell_type": "code",
   "execution_count": 7,
   "id": "f994c5c1",
   "metadata": {},
   "outputs": [
    {
     "data": {
      "text/plain": [
       "True"
      ]
     },
     "execution_count": 7,
     "metadata": {},
     "output_type": "execute_result"
    }
   ],
   "source": [
    "2+3j in l"
   ]
  },
  {
   "cell_type": "markdown",
   "id": "07bddf48",
   "metadata": {},
   "source": [
    "max(l)"
   ]
  },
  {
   "cell_type": "code",
   "execution_count": 9,
   "id": "95dbbf1d",
   "metadata": {},
   "outputs": [],
   "source": [
    "l1=[1,2,3,4,5]"
   ]
  },
  {
   "cell_type": "code",
   "execution_count": 11,
   "id": "83539d61",
   "metadata": {},
   "outputs": [
    {
     "data": {
      "text/plain": [
       "5"
      ]
     },
     "execution_count": 11,
     "metadata": {},
     "output_type": "execute_result"
    }
   ],
   "source": [
    "max(l1) # it will work only for same datatype"
   ]
  },
  {
   "cell_type": "markdown",
   "id": "65cd4443",
   "metadata": {},
   "source": [
    "min(l1)"
   ]
  },
  {
   "cell_type": "code",
   "execution_count": 12,
   "id": "c5cff73d",
   "metadata": {},
   "outputs": [
    {
     "data": {
      "text/plain": [
       "1"
      ]
     },
     "execution_count": 12,
     "metadata": {},
     "output_type": "execute_result"
    }
   ],
   "source": [
    "min(l1)"
   ]
  },
  {
   "cell_type": "code",
   "execution_count": 19,
   "id": "e82eafa2",
   "metadata": {},
   "outputs": [],
   "source": [
    "l2=[\"vamsi\",\"vamsiii\",\"Vinayyy\"]"
   ]
  },
  {
   "cell_type": "code",
   "execution_count": 20,
   "id": "761b1134",
   "metadata": {},
   "outputs": [
    {
     "data": {
      "text/plain": [
       "'vamsiii'"
      ]
     },
     "execution_count": 20,
     "metadata": {},
     "output_type": "execute_result"
    }
   ],
   "source": [
    "max(l2)"
   ]
  },
  {
   "cell_type": "code",
   "execution_count": 21,
   "id": "ec0b9083",
   "metadata": {},
   "outputs": [
    {
     "data": {
      "text/plain": [
       "'Vinayyy'"
      ]
     },
     "execution_count": 21,
     "metadata": {},
     "output_type": "execute_result"
    }
   ],
   "source": [
    "min(l2)"
   ]
  },
  {
   "cell_type": "markdown",
   "id": "8d7ce077",
   "metadata": {},
   "source": []
  },
  {
   "cell_type": "code",
   "execution_count": 22,
   "id": "b13dd8d5",
   "metadata": {},
   "outputs": [],
   "source": [
    "l1.append(2) #append will happen at the end index all the time"
   ]
  },
  {
   "cell_type": "code",
   "execution_count": 23,
   "id": "d7027411",
   "metadata": {},
   "outputs": [
    {
     "data": {
      "text/plain": [
       "[1, 2, 3, 4, 5, 2]"
      ]
     },
     "execution_count": 23,
     "metadata": {},
     "output_type": "execute_result"
    }
   ],
   "source": [
    "l1"
   ]
  },
  {
   "cell_type": "code",
   "execution_count": 24,
   "id": "f324a20b",
   "metadata": {},
   "outputs": [],
   "source": [
    "l1.append(\"vams\")"
   ]
  },
  {
   "cell_type": "code",
   "execution_count": 25,
   "id": "325c4eb0",
   "metadata": {},
   "outputs": [
    {
     "data": {
      "text/plain": [
       "[1, 2, 3, 4, 5, 2, 'vams']"
      ]
     },
     "execution_count": 25,
     "metadata": {},
     "output_type": "execute_result"
    }
   ],
   "source": [
    "l1"
   ]
  },
  {
   "cell_type": "code",
   "execution_count": 27,
   "id": "a6358e24",
   "metadata": {},
   "outputs": [],
   "source": [
    "l1.append([123,234,345,456]) # list append inside another list"
   ]
  },
  {
   "cell_type": "code",
   "execution_count": 28,
   "id": "b74c1707",
   "metadata": {},
   "outputs": [
    {
     "data": {
      "text/plain": [
       "[1, 2, 3, 4, 5, 2, 'vams', [123, 234, 345, 456]]"
      ]
     },
     "execution_count": 28,
     "metadata": {},
     "output_type": "execute_result"
    }
   ],
   "source": [
    "l1"
   ]
  },
  {
   "cell_type": "code",
   "execution_count": 29,
   "id": "095e2a8e",
   "metadata": {},
   "outputs": [
    {
     "data": {
      "text/plain": [
       "1"
      ]
     },
     "execution_count": 29,
     "metadata": {},
     "output_type": "execute_result"
    }
   ],
   "source": [
    "l1.pop(0) # removes the item from the particular index mentioned in pop"
   ]
  },
  {
   "cell_type": "code",
   "execution_count": 30,
   "id": "d25629b5",
   "metadata": {},
   "outputs": [
    {
     "data": {
      "text/plain": [
       "[123, 234, 345, 456]"
      ]
     },
     "execution_count": 30,
     "metadata": {},
     "output_type": "execute_result"
    }
   ],
   "source": [
    "l1.pop() # removes the last element if we didn't mention the index in the pop method"
   ]
  },
  {
   "cell_type": "code",
   "execution_count": 31,
   "id": "71e4e027",
   "metadata": {},
   "outputs": [],
   "source": [
    "l1.reverse()"
   ]
  },
  {
   "cell_type": "code",
   "execution_count": 32,
   "id": "b866c7ea",
   "metadata": {},
   "outputs": [
    {
     "data": {
      "text/plain": [
       "['vams', 2, 5, 4, 3, 2]"
      ]
     },
     "execution_count": 32,
     "metadata": {},
     "output_type": "execute_result"
    }
   ],
   "source": [
    "l1"
   ]
  },
  {
   "cell_type": "code",
   "execution_count": 33,
   "id": "c4aae35a",
   "metadata": {},
   "outputs": [
    {
     "data": {
      "text/plain": [
       "[2, 3, 4, 5, 2, 'vams']"
      ]
     },
     "execution_count": 33,
     "metadata": {},
     "output_type": "execute_result"
    }
   ],
   "source": [
    "l1[::-1] # at run time execution"
   ]
  },
  {
   "cell_type": "code",
   "execution_count": 35,
   "id": "b9cdbbcf",
   "metadata": {},
   "outputs": [
    {
     "data": {
      "text/plain": [
       "2"
      ]
     },
     "execution_count": 35,
     "metadata": {},
     "output_type": "execute_result"
    }
   ],
   "source": [
    "l1.pop()"
   ]
  },
  {
   "cell_type": "code",
   "execution_count": 36,
   "id": "df93fc52",
   "metadata": {},
   "outputs": [
    {
     "data": {
      "text/plain": [
       "['vams', 2, 5, 4, 3]"
      ]
     },
     "execution_count": 36,
     "metadata": {},
     "output_type": "execute_result"
    }
   ],
   "source": [
    "l1"
   ]
  },
  {
   "cell_type": "code",
   "execution_count": 37,
   "id": "96c1034a",
   "metadata": {},
   "outputs": [
    {
     "data": {
      "text/plain": [
       "'vams'"
      ]
     },
     "execution_count": 37,
     "metadata": {},
     "output_type": "execute_result"
    }
   ],
   "source": [
    "l1.pop(0)"
   ]
  },
  {
   "cell_type": "code",
   "execution_count": 38,
   "id": "43b7a843",
   "metadata": {},
   "outputs": [
    {
     "data": {
      "text/plain": [
       "[2, 5, 4, 3]"
      ]
     },
     "execution_count": 38,
     "metadata": {},
     "output_type": "execute_result"
    }
   ],
   "source": [
    "l1"
   ]
  },
  {
   "cell_type": "code",
   "execution_count": 39,
   "id": "6479c675",
   "metadata": {},
   "outputs": [],
   "source": [
    "l1.sort()"
   ]
  },
  {
   "cell_type": "code",
   "execution_count": 40,
   "id": "f394af0e",
   "metadata": {
    "collapsed": true
   },
   "outputs": [
    {
     "data": {
      "text/plain": [
       "[2, 3, 4, 5]"
      ]
     },
     "execution_count": 40,
     "metadata": {},
     "output_type": "execute_result"
    }
   ],
   "source": [
    "l1\n"
   ]
  },
  {
   "cell_type": "code",
   "execution_count": 41,
   "id": "f9ca5bf8",
   "metadata": {},
   "outputs": [],
   "source": [
    "l1.sort(reverse=True) # Desc order"
   ]
  },
  {
   "cell_type": "code",
   "execution_count": 42,
   "id": "f27a3135",
   "metadata": {},
   "outputs": [
    {
     "data": {
      "text/plain": [
       "[5, 4, 3, 2]"
      ]
     },
     "execution_count": 42,
     "metadata": {},
     "output_type": "execute_result"
    }
   ],
   "source": [
    "l1"
   ]
  },
  {
   "cell_type": "code",
   "execution_count": 43,
   "id": "71eb62b5",
   "metadata": {},
   "outputs": [],
   "source": [
    "l1=[1,2,3]\n",
    "l2=[4,5,6]\n",
    "l3=[6,7,8] #list inside any lists "
   ]
  },
  {
   "cell_type": "code",
   "execution_count": 46,
   "id": "d51533ee",
   "metadata": {},
   "outputs": [],
   "source": [
    "l4=[l1,l2,l3]"
   ]
  },
  {
   "cell_type": "code",
   "execution_count": 47,
   "id": "87925e36",
   "metadata": {},
   "outputs": [
    {
     "data": {
      "text/plain": [
       "[[1, 2, 3], [4, 5, 6], [6, 7, 8]]"
      ]
     },
     "execution_count": 47,
     "metadata": {},
     "output_type": "execute_result"
    }
   ],
   "source": [
    "l4"
   ]
  },
  {
   "cell_type": "code",
   "execution_count": 48,
   "id": "e02f2f72",
   "metadata": {},
   "outputs": [
    {
     "data": {
      "text/plain": [
       "[6, 7, 8]"
      ]
     },
     "execution_count": 48,
     "metadata": {},
     "output_type": "execute_result"
    }
   ],
   "source": [
    "l4[2]"
   ]
  },
  {
   "cell_type": "code",
   "execution_count": 49,
   "id": "41193c1f",
   "metadata": {},
   "outputs": [
    {
     "data": {
      "text/plain": [
       "7"
      ]
     },
     "execution_count": 49,
     "metadata": {},
     "output_type": "execute_result"
    }
   ],
   "source": [
    "l4[2][1]"
   ]
  },
  {
   "cell_type": "code",
   "execution_count": 50,
   "id": "86ef5e3b",
   "metadata": {},
   "outputs": [
    {
     "data": {
      "text/plain": [
       "[1, 2, 3, 'Vamsi', 234.567, (2+3j)]"
      ]
     },
     "execution_count": 50,
     "metadata": {},
     "output_type": "execute_result"
    }
   ],
   "source": [
    "l"
   ]
  },
  {
   "cell_type": "code",
   "execution_count": 51,
   "id": "8ac0ea00",
   "metadata": {},
   "outputs": [
    {
     "data": {
      "text/plain": [
       "1"
      ]
     },
     "execution_count": 51,
     "metadata": {},
     "output_type": "execute_result"
    }
   ],
   "source": [
    "l.count(3)"
   ]
  },
  {
   "cell_type": "code",
   "execution_count": 52,
   "id": "2a53ad8f",
   "metadata": {},
   "outputs": [],
   "source": [
    "l.append(\"JALASRI\")"
   ]
  },
  {
   "cell_type": "code",
   "execution_count": 54,
   "id": "e320242a",
   "metadata": {},
   "outputs": [
    {
     "data": {
      "text/plain": [
       "[1, 2, 3, 'Vamsi', 234.567, (2+3j), 'JALASRI']"
      ]
     },
     "execution_count": 54,
     "metadata": {},
     "output_type": "execute_result"
    }
   ],
   "source": [
    "l"
   ]
  },
  {
   "cell_type": "code",
   "execution_count": 55,
   "id": "384e1bf1",
   "metadata": {},
   "outputs": [],
   "source": [
    "l.append([123,234,345])"
   ]
  },
  {
   "cell_type": "code",
   "execution_count": 56,
   "id": "a0f36900",
   "metadata": {},
   "outputs": [
    {
     "data": {
      "text/plain": [
       "[1, 2, 3, 'Vamsi', 234.567, (2+3j), 'JALASRI', [123, 234, 345]]"
      ]
     },
     "execution_count": 56,
     "metadata": {},
     "output_type": "execute_result"
    }
   ],
   "source": [
    "l"
   ]
  },
  {
   "cell_type": "code",
   "execution_count": 57,
   "id": "224de8cb",
   "metadata": {},
   "outputs": [],
   "source": [
    "l.append([234,456,\"vamsjsdf\"]) #canvas space and list with both data types appending"
   ]
  },
  {
   "cell_type": "code",
   "execution_count": 58,
   "id": "4756683d",
   "metadata": {},
   "outputs": [
    {
     "data": {
      "text/plain": [
       "[1,\n",
       " 2,\n",
       " 3,\n",
       " 'Vamsi',\n",
       " 234.567,\n",
       " (2+3j),\n",
       " 'JALASRI',\n",
       " [123, 234, 345],\n",
       " [234, 456, 'vamsjsdf']]"
      ]
     },
     "execution_count": 58,
     "metadata": {},
     "output_type": "execute_result"
    }
   ],
   "source": [
    "l"
   ]
  },
  {
   "cell_type": "code",
   "execution_count": 60,
   "id": "b5113e7e",
   "metadata": {},
   "outputs": [],
   "source": [
    "l.extend('DATA')\n"
   ]
  },
  {
   "cell_type": "code",
   "execution_count": 62,
   "id": "d5909376",
   "metadata": {},
   "outputs": [
    {
     "data": {
      "text/plain": [
       "[1,\n",
       " 2,\n",
       " 3,\n",
       " 'Vamsi',\n",
       " 234.567,\n",
       " (2+3j),\n",
       " 'JALASRI',\n",
       " [123, 234, 345],\n",
       " [234, 456, 'vamsjsdf'],\n",
       " 'D',\n",
       " 'A',\n",
       " 'T',\n",
       " 'A']"
      ]
     },
     "execution_count": 62,
     "metadata": {},
     "output_type": "execute_result"
    }
   ],
   "source": [
    "l"
   ]
  },
  {
   "cell_type": "code",
   "execution_count": 63,
   "id": "5e8eaa55",
   "metadata": {},
   "outputs": [],
   "source": [
    "l4=[1,2,3,[4,5,6]]"
   ]
  },
  {
   "cell_type": "code",
   "execution_count": 64,
   "id": "7e5691bf",
   "metadata": {},
   "outputs": [
    {
     "data": {
      "text/plain": [
       "[1, 2, 3, [4, 5, 6]]"
      ]
     },
     "execution_count": 64,
     "metadata": {},
     "output_type": "execute_result"
    }
   ],
   "source": [
    "l4"
   ]
  },
  {
   "cell_type": "code",
   "execution_count": 65,
   "id": "0747869d",
   "metadata": {},
   "outputs": [],
   "source": [
    "l4.append(\"VAMSI\")"
   ]
  },
  {
   "cell_type": "code",
   "execution_count": 66,
   "id": "07cc999c",
   "metadata": {},
   "outputs": [
    {
     "data": {
      "text/plain": [
       "[1, 2, 3, [4, 5, 6], 'VAMSI']"
      ]
     },
     "execution_count": 66,
     "metadata": {},
     "output_type": "execute_result"
    }
   ],
   "source": [
    "l4"
   ]
  },
  {
   "cell_type": "code",
   "execution_count": 68,
   "id": "27189d79",
   "metadata": {},
   "outputs": [],
   "source": [
    "l4.extend([12,13,14])"
   ]
  },
  {
   "cell_type": "code",
   "execution_count": 69,
   "id": "77b472aa",
   "metadata": {},
   "outputs": [
    {
     "data": {
      "text/plain": [
       "[1, 2, 3, [4, 5, 6], 'VAMSI', 12, 13, 14]"
      ]
     },
     "execution_count": 69,
     "metadata": {},
     "output_type": "execute_result"
    }
   ],
   "source": [
    "l4"
   ]
  },
  {
   "cell_type": "code",
   "execution_count": 70,
   "id": "51592307",
   "metadata": {},
   "outputs": [
    {
     "data": {
      "text/plain": [
       "12"
      ]
     },
     "execution_count": 70,
     "metadata": {},
     "output_type": "execute_result"
    }
   ],
   "source": [
    "l4[5]"
   ]
  },
  {
   "cell_type": "code",
   "execution_count": 71,
   "id": "bcb4a89f",
   "metadata": {},
   "outputs": [],
   "source": [
    "l4.extend(\"DATA SCIENTIST\")"
   ]
  },
  {
   "cell_type": "code",
   "execution_count": 73,
   "id": "cb99787c",
   "metadata": {},
   "outputs": [
    {
     "data": {
      "text/plain": [
       "[1,\n",
       " 2,\n",
       " 3,\n",
       " [4, 5, 6],\n",
       " 'VAMSI',\n",
       " 12,\n",
       " 13,\n",
       " 14,\n",
       " 'D',\n",
       " 'A',\n",
       " 'T',\n",
       " 'A',\n",
       " ' ',\n",
       " 'S',\n",
       " 'C',\n",
       " 'I',\n",
       " 'E',\n",
       " 'N',\n",
       " 'T',\n",
       " 'I',\n",
       " 'S',\n",
       " 'T']"
      ]
     },
     "execution_count": 73,
     "metadata": {},
     "output_type": "execute_result"
    }
   ],
   "source": [
    "l4"
   ]
  },
  {
   "cell_type": "code",
   "execution_count": 74,
   "id": "64d9cc03",
   "metadata": {},
   "outputs": [
    {
     "data": {
      "text/plain": [
       "2"
      ]
     },
     "execution_count": 74,
     "metadata": {},
     "output_type": "execute_result"
    }
   ],
   "source": [
    "l4.index(3)"
   ]
  },
  {
   "cell_type": "code",
   "execution_count": 75,
   "id": "0205c439",
   "metadata": {},
   "outputs": [],
   "source": [
    "l5=[1,2,3,4,4,5,6]"
   ]
  },
  {
   "cell_type": "code",
   "execution_count": 76,
   "id": "246ebf55",
   "metadata": {},
   "outputs": [
    {
     "data": {
      "text/plain": [
       "3"
      ]
     },
     "execution_count": 76,
     "metadata": {},
     "output_type": "execute_result"
    }
   ],
   "source": [
    "l5.index(4)"
   ]
  },
  {
   "cell_type": "code",
   "execution_count": 77,
   "id": "ec2bee0e",
   "metadata": {},
   "outputs": [
    {
     "data": {
      "text/plain": [
       "[1, 2, 3, 4, 4, 5, 6]"
      ]
     },
     "execution_count": 77,
     "metadata": {},
     "output_type": "execute_result"
    }
   ],
   "source": [
    "l5.copy()"
   ]
  },
  {
   "cell_type": "code",
   "execution_count": 78,
   "id": "69851597",
   "metadata": {},
   "outputs": [
    {
     "data": {
      "text/plain": [
       "[1, 2, 3, 4, 4, 5, 6]"
      ]
     },
     "execution_count": 78,
     "metadata": {},
     "output_type": "execute_result"
    }
   ],
   "source": [
    "l5"
   ]
  },
  {
   "cell_type": "code",
   "execution_count": 79,
   "id": "dc7b3968",
   "metadata": {},
   "outputs": [],
   "source": [
    "l5.insert(0,23)"
   ]
  },
  {
   "cell_type": "code",
   "execution_count": 80,
   "id": "dc1d1cf8",
   "metadata": {},
   "outputs": [
    {
     "data": {
      "text/plain": [
       "[23, 1, 2, 3, 4, 4, 5, 6]"
      ]
     },
     "execution_count": 80,
     "metadata": {},
     "output_type": "execute_result"
    }
   ],
   "source": [
    "l5"
   ]
  },
  {
   "cell_type": "code",
   "execution_count": 81,
   "id": "3c69355d",
   "metadata": {},
   "outputs": [
    {
     "data": {
      "text/plain": [
       "'A'"
      ]
     },
     "execution_count": 81,
     "metadata": {},
     "output_type": "execute_result"
    }
   ],
   "source": [
    "l.pop()"
   ]
  },
  {
   "cell_type": "code",
   "execution_count": 82,
   "id": "2c50159a",
   "metadata": {},
   "outputs": [
    {
     "data": {
      "text/plain": [
       "[1,\n",
       " 2,\n",
       " 3,\n",
       " 'Vamsi',\n",
       " 234.567,\n",
       " (2+3j),\n",
       " 'JALASRI',\n",
       " [123, 234, 345],\n",
       " [234, 456, 'vamsjsdf'],\n",
       " 'D',\n",
       " 'A',\n",
       " 'T']"
      ]
     },
     "execution_count": 82,
     "metadata": {},
     "output_type": "execute_result"
    }
   ],
   "source": [
    "l"
   ]
  },
  {
   "cell_type": "code",
   "execution_count": 84,
   "id": "a93ff422",
   "metadata": {},
   "outputs": [
    {
     "data": {
      "text/plain": [
       "6"
      ]
     },
     "execution_count": 84,
     "metadata": {},
     "output_type": "execute_result"
    }
   ],
   "source": [
    "l5.pop()"
   ]
  },
  {
   "cell_type": "markdown",
   "id": "d58cdfc3",
   "metadata": {},
   "source": [
    "##### "
   ]
  },
  {
   "cell_type": "code",
   "execution_count": 85,
   "id": "714bd2ed",
   "metadata": {},
   "outputs": [
    {
     "data": {
      "text/plain": [
       "[23, 1, 2, 3, 4, 4, 5]"
      ]
     },
     "execution_count": 85,
     "metadata": {},
     "output_type": "execute_result"
    }
   ],
   "source": [
    "l5"
   ]
  },
  {
   "cell_type": "code",
   "execution_count": 87,
   "id": "fb13af0c",
   "metadata": {},
   "outputs": [],
   "source": [
    "l5.remove(3)"
   ]
  },
  {
   "cell_type": "markdown",
   "id": "129a57c3",
   "metadata": {},
   "source": [
    "##### "
   ]
  },
  {
   "cell_type": "code",
   "execution_count": 88,
   "id": "8c59c8d3",
   "metadata": {},
   "outputs": [
    {
     "data": {
      "text/plain": [
       "[23, 1, 2, 4, 4, 5]"
      ]
     },
     "execution_count": 88,
     "metadata": {},
     "output_type": "execute_result"
    }
   ],
   "source": [
    "l5"
   ]
  },
  {
   "cell_type": "code",
   "execution_count": 89,
   "id": "d092341c",
   "metadata": {},
   "outputs": [
    {
     "data": {
      "text/plain": [
       "2"
      ]
     },
     "execution_count": 89,
     "metadata": {},
     "output_type": "execute_result"
    }
   ],
   "source": [
    "l5.pop(2)"
   ]
  },
  {
   "cell_type": "code",
   "execution_count": 90,
   "id": "66f9e304",
   "metadata": {},
   "outputs": [
    {
     "data": {
      "text/plain": [
       "[23, 1, 4, 4, 5]"
      ]
     },
     "execution_count": 90,
     "metadata": {},
     "output_type": "execute_result"
    }
   ],
   "source": [
    "l5"
   ]
  },
  {
   "cell_type": "code",
   "execution_count": 91,
   "id": "7df474ea",
   "metadata": {},
   "outputs": [],
   "source": [
    "l5.remove(4)"
   ]
  },
  {
   "cell_type": "code",
   "execution_count": 92,
   "id": "b8c63862",
   "metadata": {},
   "outputs": [
    {
     "data": {
      "text/plain": [
       "[23, 1, 4, 5]"
      ]
     },
     "execution_count": 92,
     "metadata": {},
     "output_type": "execute_result"
    }
   ],
   "source": [
    "l5"
   ]
  },
  {
   "cell_type": "code",
   "execution_count": 93,
   "id": "390797ae",
   "metadata": {},
   "outputs": [],
   "source": [
    "l6=[1,2,3,4,5]"
   ]
  },
  {
   "cell_type": "code",
   "execution_count": 94,
   "id": "d2760a30",
   "metadata": {},
   "outputs": [],
   "source": [
    "l6[2]=\"SUDH\""
   ]
  },
  {
   "cell_type": "code",
   "execution_count": 96,
   "id": "ad65dceb",
   "metadata": {},
   "outputs": [
    {
     "data": {
      "text/plain": [
       "[1, 2, 'SUDH', 4, 5]"
      ]
     },
     "execution_count": 96,
     "metadata": {},
     "output_type": "execute_result"
    }
   ],
   "source": [
    "l6 # list is a mutuable but string is not"
   ]
  },
  {
   "cell_type": "code",
   "execution_count": 97,
   "id": "f676dfe0",
   "metadata": {},
   "outputs": [],
   "source": [
    "v = \"Vamsi\""
   ]
  },
  {
   "cell_type": "code",
   "execution_count": 102,
   "id": "0528eb23",
   "metadata": {},
   "outputs": [],
   "source": [
    "l6[1]= 4"
   ]
  },
  {
   "cell_type": "code",
   "execution_count": 103,
   "id": "f35a9cba",
   "metadata": {},
   "outputs": [
    {
     "data": {
      "text/plain": [
       "[1, 4, 'SUDH', 4, 5]"
      ]
     },
     "execution_count": 103,
     "metadata": {},
     "output_type": "execute_result"
    }
   ],
   "source": [
    "l6"
   ]
  },
  {
   "cell_type": "code",
   "execution_count": 108,
   "id": "f5be0292",
   "metadata": {},
   "outputs": [],
   "source": [
    "t =(4,2,3,\"Vamsi\",456.677,True)#Tuples starts here"
   ]
  },
  {
   "cell_type": "code",
   "execution_count": 105,
   "id": "2a77357d",
   "metadata": {},
   "outputs": [
    {
     "data": {
      "text/plain": [
       "tuple"
      ]
     },
     "execution_count": 105,
     "metadata": {},
     "output_type": "execute_result"
    }
   ],
   "source": [
    "type(t)"
   ]
  },
  {
   "cell_type": "code",
   "execution_count": 109,
   "id": "9abb6396",
   "metadata": {},
   "outputs": [
    {
     "data": {
      "text/plain": [
       "4"
      ]
     },
     "execution_count": 109,
     "metadata": {},
     "output_type": "execute_result"
    }
   ],
   "source": [
    "t[0] #brackets will be same for both"
   ]
  },
  {
   "cell_type": "code",
   "execution_count": 110,
   "id": "fb12a20b",
   "metadata": {},
   "outputs": [
    {
     "data": {
      "text/plain": [
       "(4, 2, 3, 'Vamsi')"
      ]
     },
     "execution_count": 110,
     "metadata": {},
     "output_type": "execute_result"
    }
   ],
   "source": [
    "t[0:4]"
   ]
  },
  {
   "cell_type": "code",
   "execution_count": 111,
   "id": "ec0b297d",
   "metadata": {},
   "outputs": [
    {
     "data": {
      "text/plain": [
       "True"
      ]
     },
     "execution_count": 111,
     "metadata": {},
     "output_type": "execute_result"
    }
   ],
   "source": [
    "t[-1]"
   ]
  },
  {
   "cell_type": "code",
   "execution_count": 114,
   "id": "c6ea2288",
   "metadata": {},
   "outputs": [
    {
     "data": {
      "text/plain": [
       "(4, 2, 3, 'Vamsi', 456.677, True)"
      ]
     },
     "execution_count": 114,
     "metadata": {},
     "output_type": "execute_result"
    }
   ],
   "source": [
    "t[0:80000:1]"
   ]
  },
  {
   "cell_type": "code",
   "execution_count": 115,
   "id": "0574aea3",
   "metadata": {},
   "outputs": [
    {
     "data": {
      "text/plain": [
       "()"
      ]
     },
     "execution_count": 115,
     "metadata": {},
     "output_type": "execute_result"
    }
   ],
   "source": [
    "t[0:4:-1] #jumpm in negative direction"
   ]
  },
  {
   "cell_type": "code",
   "execution_count": 116,
   "id": "73ffe830",
   "metadata": {},
   "outputs": [
    {
     "data": {
      "text/plain": [
       "3"
      ]
     },
     "execution_count": 116,
     "metadata": {},
     "output_type": "execute_result"
    }
   ],
   "source": [
    "t[2]\n"
   ]
  },
  {
   "cell_type": "code",
   "execution_count": 117,
   "id": "1073b5ab",
   "metadata": {},
   "outputs": [
    {
     "ename": "TypeError",
     "evalue": "'tuple' object does not support item assignment",
     "output_type": "error",
     "traceback": [
      "\u001b[1;31m---------------------------------------------------------------------------\u001b[0m",
      "\u001b[1;31mTypeError\u001b[0m                                 Traceback (most recent call last)",
      "Input \u001b[1;32mIn [117]\u001b[0m, in \u001b[0;36m<cell line: 1>\u001b[1;34m()\u001b[0m\n\u001b[1;32m----> 1\u001b[0m t[\u001b[38;5;241m2\u001b[39m]\u001b[38;5;241m=\u001b[39m\u001b[38;5;124m\"\u001b[39m\u001b[38;5;124mVamsiii\u001b[39m\u001b[38;5;124m\"\u001b[39m\n",
      "\u001b[1;31mTypeError\u001b[0m: 'tuple' object does not support item assignment"
     ]
    }
   ],
   "source": [
    "t[2]=\"Vamsiii\" # immutable "
   ]
  },
  {
   "cell_type": "code",
   "execution_count": 118,
   "id": "72ea332a",
   "metadata": {},
   "outputs": [],
   "source": [
    "t1=(4,5,6,7)"
   ]
  },
  {
   "cell_type": "code",
   "execution_count": 119,
   "id": "3afa91e4",
   "metadata": {},
   "outputs": [
    {
     "data": {
      "text/plain": [
       "(4, 2, 3, 'Vamsi', 456.677, True, 4, 5, 6, 7)"
      ]
     },
     "execution_count": 119,
     "metadata": {},
     "output_type": "execute_result"
    }
   ],
   "source": [
    "t+t1 # not interuppted the existing one just adding new"
   ]
  },
  {
   "cell_type": "code",
   "execution_count": 121,
   "id": "be4bc714",
   "metadata": {},
   "outputs": [
    {
     "data": {
      "text/plain": [
       "(4, 2, 3, 'Vamsi', 456.677, True)"
      ]
     },
     "execution_count": 121,
     "metadata": {},
     "output_type": "execute_result"
    }
   ],
   "source": [
    "t"
   ]
  },
  {
   "cell_type": "code",
   "execution_count": 123,
   "id": "793e246e",
   "metadata": {},
   "outputs": [
    {
     "data": {
      "text/plain": [
       "1"
      ]
     },
     "execution_count": 123,
     "metadata": {},
     "output_type": "execute_result"
    }
   ],
   "source": [
    "t.count(4)"
   ]
  },
  {
   "cell_type": "code",
   "execution_count": 124,
   "id": "7a66ef85",
   "metadata": {},
   "outputs": [
    {
     "data": {
      "text/plain": [
       "3"
      ]
     },
     "execution_count": 124,
     "metadata": {},
     "output_type": "execute_result"
    }
   ],
   "source": [
    "t.index('Vamsi')"
   ]
  },
  {
   "cell_type": "code",
   "execution_count": 129,
   "id": "dc70a195",
   "metadata": {},
   "outputs": [],
   "source": [
    "l7=list(t) "
   ]
  },
  {
   "cell_type": "code",
   "execution_count": 130,
   "id": "ccf617cd",
   "metadata": {},
   "outputs": [
    {
     "data": {
      "text/plain": [
       "[4, 2, 3, 'Vamsi', 456.677, True]"
      ]
     },
     "execution_count": 130,
     "metadata": {},
     "output_type": "execute_result"
    }
   ],
   "source": [
    "l7"
   ]
  },
  {
   "cell_type": "code",
   "execution_count": 133,
   "id": "6663edcc",
   "metadata": {},
   "outputs": [],
   "source": [
    "t1=tuple(l7)"
   ]
  },
  {
   "cell_type": "code",
   "execution_count": 134,
   "id": "14d462da",
   "metadata": {},
   "outputs": [
    {
     "data": {
      "text/plain": [
       "(4, 2, 3, 'Vamsi', 456.677, True)"
      ]
     },
     "execution_count": 134,
     "metadata": {},
     "output_type": "execute_result"
    }
   ],
   "source": [
    "t1"
   ]
  },
  {
   "cell_type": "code",
   "execution_count": null,
   "id": "1ea666d8",
   "metadata": {},
   "outputs": [],
   "source": [
    "#Dictonary starts from here"
   ]
  },
  {
   "cell_type": "code",
   "execution_count": 135,
   "id": "eb1c5470",
   "metadata": {},
   "outputs": [],
   "source": [
    "d={}"
   ]
  },
  {
   "cell_type": "code",
   "execution_count": 136,
   "id": "5032e717",
   "metadata": {},
   "outputs": [
    {
     "data": {
      "text/plain": [
       "dict"
      ]
     },
     "execution_count": 136,
     "metadata": {},
     "output_type": "execute_result"
    }
   ],
   "source": [
    "type(d)"
   ]
  },
  {
   "cell_type": "code",
   "execution_count": 137,
   "id": "fac222b0",
   "metadata": {},
   "outputs": [],
   "source": [
    "d1={1}"
   ]
  },
  {
   "cell_type": "code",
   "execution_count": 138,
   "id": "2ac76c54",
   "metadata": {},
   "outputs": [
    {
     "data": {
      "text/plain": [
       "set"
      ]
     },
     "execution_count": 138,
     "metadata": {},
     "output_type": "execute_result"
    }
   ],
   "source": [
    "type(d1)"
   ]
  },
  {
   "cell_type": "code",
   "execution_count": 139,
   "id": "a3197471",
   "metadata": {},
   "outputs": [],
   "source": [
    "d2={\"key\": \"Value\", 1 : \"Vamsi\",2: \"Jalasri\"}"
   ]
  },
  {
   "cell_type": "code",
   "execution_count": 140,
   "id": "3a4a1636",
   "metadata": {},
   "outputs": [
    {
     "data": {
      "text/plain": [
       "{'key': 'Value', 1: 'Vamsi', 2: 'Jalasri'}"
      ]
     },
     "execution_count": 140,
     "metadata": {},
     "output_type": "execute_result"
    }
   ],
   "source": [
    "d2"
   ]
  },
  {
   "cell_type": "code",
   "execution_count": 141,
   "id": "c7072709",
   "metadata": {},
   "outputs": [
    {
     "data": {
      "text/plain": [
       "'Vamsi'"
      ]
     },
     "execution_count": 141,
     "metadata": {},
     "output_type": "execute_result"
    }
   ],
   "source": [
    "d2[1]"
   ]
  },
  {
   "cell_type": "code",
   "execution_count": 143,
   "id": "ad7d5037",
   "metadata": {},
   "outputs": [],
   "source": [
    "d3={\"key\": \"Value\", \"name\" : \"Vamsi\",\"Surname\": \"Jalasri\"}"
   ]
  },
  {
   "cell_type": "code",
   "execution_count": 145,
   "id": "5bb005f5",
   "metadata": {},
   "outputs": [
    {
     "data": {
      "text/plain": [
       "'Vamsi'"
      ]
     },
     "execution_count": 145,
     "metadata": {},
     "output_type": "execute_result"
    }
   ],
   "source": [
    "d3[\"name\"]"
   ]
  },
  {
   "cell_type": "code",
   "execution_count": 146,
   "id": "0dcd3f67",
   "metadata": {},
   "outputs": [],
   "source": [
    "d2={\"Name\" : \"Vamsi\",\"Suranme\": \"Jalasri\",\"Roles\": [\"Lead\",\"Data Scientist\"],\"Tech\": (\"Java\",\"Python\",123),\"Combo\":{1234,234.67,\"Frnd\"}}"
   ]
  },
  {
   "cell_type": "code",
   "execution_count": 147,
   "id": "493a825f",
   "metadata": {},
   "outputs": [
    {
     "data": {
      "text/plain": [
       "{'Name': 'Vamsi',\n",
       " 'Suranme': 'Jalasri',\n",
       " 'Roles': ['Lead', 'Data Scientist'],\n",
       " 'Tech': ('Java', 'Python', 123),\n",
       " 'Combo': {1234, 234.67, 'Frnd'}}"
      ]
     },
     "execution_count": 147,
     "metadata": {},
     "output_type": "execute_result"
    }
   ],
   "source": [
    "d2"
   ]
  },
  {
   "cell_type": "code",
   "execution_count": 150,
   "id": "f4b137ca",
   "metadata": {},
   "outputs": [
    {
     "data": {
      "text/plain": [
       "True"
      ]
     },
     "execution_count": 150,
     "metadata": {},
     "output_type": "execute_result"
    }
   ],
   "source": [
    "\"Python\" in d2[\"Tech\"]"
   ]
  },
  {
   "cell_type": "code",
   "execution_count": 155,
   "id": "2bc5edd7",
   "metadata": {},
   "outputs": [],
   "source": [
    "d2[\"k1\"]=\"xyz\""
   ]
  },
  {
   "cell_type": "code",
   "execution_count": 156,
   "id": "fb879fe8",
   "metadata": {},
   "outputs": [
    {
     "data": {
      "text/plain": [
       "{'Name': 'Vamsi',\n",
       " 'Suranme': 'Jalasri',\n",
       " 'Roles': ['Lead', 'Data Scientist'],\n",
       " 'Tech': ('Java', 'Python', 123),\n",
       " 'Combo': {1234, 234.67, 'Frnd'},\n",
       " 'k1': 'xyz'}"
      ]
     },
     "execution_count": 156,
     "metadata": {},
     "output_type": "execute_result"
    }
   ],
   "source": [
    "d2"
   ]
  },
  {
   "cell_type": "code",
   "execution_count": 166,
   "id": "33df1aae",
   "metadata": {},
   "outputs": [],
   "source": [
    "d2[\"k2\"]={'key': 'Value', 1: 'Vamsi', 2: 'Jalasri'}"
   ]
  },
  {
   "cell_type": "code",
   "execution_count": 167,
   "id": "f4df7af1",
   "metadata": {},
   "outputs": [
    {
     "data": {
      "text/plain": [
       "{'Name': 'Vamsi',\n",
       " 'Suranme': 'Jalasri',\n",
       " 'Roles': ['Lead', 'Data Scientist'],\n",
       " 'Tech': ('Java', 'Python', 123),\n",
       " 'Combo': {1234, 234.67, 'Frnd'},\n",
       " 'k1': 'xyz',\n",
       " 'k2': {'key': 'Value', 1: 'Vamsi', 2: 'Jalasri'}}"
      ]
     },
     "execution_count": 167,
     "metadata": {},
     "output_type": "execute_result"
    }
   ],
   "source": [
    "d2"
   ]
  },
  {
   "cell_type": "code",
   "execution_count": 169,
   "id": "fd81b6e3",
   "metadata": {},
   "outputs": [
    {
     "data": {
      "text/plain": [
       "'Vamsi'"
      ]
     },
     "execution_count": 169,
     "metadata": {},
     "output_type": "execute_result"
    }
   ],
   "source": [
    "d2[\"k2\"][1]"
   ]
  },
  {
   "cell_type": "code",
   "execution_count": 170,
   "id": "d22a85cb",
   "metadata": {},
   "outputs": [
    {
     "ename": "TypeError",
     "evalue": "unhashable type: 'list'",
     "output_type": "error",
     "traceback": [
      "\u001b[1;31m---------------------------------------------------------------------------\u001b[0m",
      "\u001b[1;31mTypeError\u001b[0m                                 Traceback (most recent call last)",
      "Input \u001b[1;32mIn [170]\u001b[0m, in \u001b[0;36m<cell line: 1>\u001b[1;34m()\u001b[0m\n\u001b[1;32m----> 1\u001b[0m d3\u001b[38;5;241m=\u001b[39m{[\u001b[38;5;241m1\u001b[39m,\u001b[38;5;241m2\u001b[39m,\u001b[38;5;241m3\u001b[39m]: \u001b[38;5;124m\"\u001b[39m\u001b[38;5;124mvans\u001b[39m\u001b[38;5;124m\"\u001b[39m}\n",
      "\u001b[1;31mTypeError\u001b[0m: unhashable type: 'list'"
     ]
    }
   ],
   "source": [
    "d3={[1,2,3]: \"vans\"}"
   ]
  },
  {
   "cell_type": "code",
   "execution_count": 172,
   "id": "7886db4e",
   "metadata": {},
   "outputs": [
    {
     "data": {
      "text/plain": [
       "{'Name': 'Vamsi',\n",
       " 'Suranme': 'Jalasri',\n",
       " 'Roles': ['Lead', 'Data Scientist'],\n",
       " 'Tech': ('Java', 'Python', 123),\n",
       " 'Combo': {1234, 234.67, 'Frnd'},\n",
       " 'k1': 'xyz',\n",
       " 'k2': {'key': 'Value', 1: 'Vamsi', 2: 'Jalasri'}}"
      ]
     },
     "execution_count": 172,
     "metadata": {},
     "output_type": "execute_result"
    }
   ],
   "source": [
    "d2"
   ]
  },
  {
   "cell_type": "code",
   "execution_count": 173,
   "id": "bd9ed003",
   "metadata": {},
   "outputs": [
    {
     "data": {
      "text/plain": [
       "dict_keys(['Name', 'Suranme', 'Roles', 'Tech', 'Combo', 'k1', 'k2'])"
      ]
     },
     "execution_count": 173,
     "metadata": {},
     "output_type": "execute_result"
    }
   ],
   "source": [
    "d2.keys()"
   ]
  },
  {
   "cell_type": "code",
   "execution_count": 174,
   "id": "dfe18cf0",
   "metadata": {},
   "outputs": [
    {
     "data": {
      "text/plain": [
       "dict_items([('Name', 'Vamsi'), ('Suranme', 'Jalasri'), ('Roles', ['Lead', 'Data Scientist']), ('Tech', ('Java', 'Python', 123)), ('Combo', {'Frnd', 1234, 234.67}), ('k1', 'xyz'), ('k2', {'key': 'Value', 1: 'Vamsi', 2: 'Jalasri'})])"
      ]
     },
     "execution_count": 174,
     "metadata": {},
     "output_type": "execute_result"
    }
   ],
   "source": [
    "d2.items()"
   ]
  },
  {
   "cell_type": "code",
   "execution_count": 175,
   "id": "d2deec01",
   "metadata": {},
   "outputs": [
    {
     "data": {
      "text/plain": [
       "dict_values(['Vamsi', 'Jalasri', ['Lead', 'Data Scientist'], ('Java', 'Python', 123), {'Frnd', 1234, 234.67}, 'xyz', {'key': 'Value', 1: 'Vamsi', 2: 'Jalasri'}])"
      ]
     },
     "execution_count": 175,
     "metadata": {},
     "output_type": "execute_result"
    }
   ],
   "source": [
    "d2.values()"
   ]
  },
  {
   "cell_type": "code",
   "execution_count": null,
   "id": "fb8bbc3f",
   "metadata": {},
   "outputs": [],
   "source": [
    "#Set starts here"
   ]
  },
  {
   "cell_type": "code",
   "execution_count": 176,
   "id": "f4d40a40",
   "metadata": {},
   "outputs": [],
   "source": [
    "s1={2,2,3,4,5,6,7,7,7,7,7,78,89,9,0,0,0}"
   ]
  },
  {
   "cell_type": "code",
   "execution_count": 177,
   "id": "18e4c86f",
   "metadata": {},
   "outputs": [
    {
     "data": {
      "text/plain": [
       "{0, 2, 3, 4, 5, 6, 7, 9, 78, 89}"
      ]
     },
     "execution_count": 177,
     "metadata": {},
     "output_type": "execute_result"
    }
   ],
   "source": [
    "s1"
   ]
  },
  {
   "cell_type": "code",
   "execution_count": 178,
   "id": "be65b262",
   "metadata": {},
   "outputs": [],
   "source": [
    "s2={\"Vamsi\",123,234,12,12,456,0,56,45,90}"
   ]
  },
  {
   "cell_type": "code",
   "execution_count": 179,
   "id": "6a6dd48e",
   "metadata": {},
   "outputs": [
    {
     "data": {
      "text/plain": [
       "{0, 12, 123, 234, 45, 456, 56, 90, 'Vamsi'}"
      ]
     },
     "execution_count": 179,
     "metadata": {},
     "output_type": "execute_result"
    }
   ],
   "source": [
    "s2"
   ]
  },
  {
   "cell_type": "code",
   "execution_count": 180,
   "id": "76122738",
   "metadata": {},
   "outputs": [
    {
     "data": {
      "text/plain": [
       "[0, 'Vamsi', 456, 234, 12, 45, 56, 90, 123]"
      ]
     },
     "execution_count": 180,
     "metadata": {},
     "output_type": "execute_result"
    }
   ],
   "source": [
    "list(s2)"
   ]
  },
  {
   "cell_type": "code",
   "execution_count": 181,
   "id": "ee6c07b5",
   "metadata": {},
   "outputs": [
    {
     "data": {
      "text/plain": [
       "(0, 'Vamsi', 456, 234, 12, 45, 56, 90, 123)"
      ]
     },
     "execution_count": 181,
     "metadata": {},
     "output_type": "execute_result"
    }
   ],
   "source": [
    "tuple(s2)"
   ]
  },
  {
   "cell_type": "code",
   "execution_count": 187,
   "id": "b292b546",
   "metadata": {},
   "outputs": [],
   "source": [
    "l9=[2,3,3,3,4,5,5,5,5,6,6,7,8]"
   ]
  },
  {
   "cell_type": "code",
   "execution_count": 188,
   "id": "44a7f82d",
   "metadata": {},
   "outputs": [
    {
     "data": {
      "text/plain": [
       "[2, 3, 3, 3, 4, 5, 5, 5, 5, 6, 6, 7, 8]"
      ]
     },
     "execution_count": 188,
     "metadata": {},
     "output_type": "execute_result"
    }
   ],
   "source": [
    "l9"
   ]
  },
  {
   "cell_type": "code",
   "execution_count": 189,
   "id": "91d22d6c",
   "metadata": {},
   "outputs": [
    {
     "data": {
      "text/plain": [
       "{2, 3, 4, 5, 6, 7, 8}"
      ]
     },
     "execution_count": 189,
     "metadata": {},
     "output_type": "execute_result"
    }
   ],
   "source": [
    "set(l9)"
   ]
  },
  {
   "cell_type": "code",
   "execution_count": 191,
   "id": "71b6cd19",
   "metadata": {},
   "outputs": [],
   "source": [
    "s2.add((1,2,3))"
   ]
  },
  {
   "cell_type": "code",
   "execution_count": 192,
   "id": "5e10c65a",
   "metadata": {},
   "outputs": [
    {
     "data": {
      "text/plain": [
       "{(1, 2, 3), 0, 12, 123, 234, 45, 456, 56, 90, 'Vamsi'}"
      ]
     },
     "execution_count": 192,
     "metadata": {},
     "output_type": "execute_result"
    }
   ],
   "source": [
    "s2"
   ]
  },
  {
   "cell_type": "code",
   "execution_count": 194,
   "id": "788d2a60",
   "metadata": {},
   "outputs": [],
   "source": [
    "s2.remove(0)"
   ]
  },
  {
   "cell_type": "code",
   "execution_count": 195,
   "id": "59f5b357",
   "metadata": {},
   "outputs": [
    {
     "data": {
      "text/plain": [
       "{(1, 2, 3), 12, 123, 234, 45, 456, 56, 90, 'Vamsi'}"
      ]
     },
     "execution_count": 195,
     "metadata": {},
     "output_type": "execute_result"
    }
   ],
   "source": [
    "s2"
   ]
  },
  {
   "cell_type": "code",
   "execution_count": 196,
   "id": "6671d477",
   "metadata": {},
   "outputs": [],
   "source": [
    " s2.discard(223)"
   ]
  },
  {
   "cell_type": "code",
   "execution_count": 197,
   "id": "b96ee112",
   "metadata": {},
   "outputs": [
    {
     "data": {
      "text/plain": [
       "{(1, 2, 3), 12, 123, 234, 45, 456, 56, 90, 'Vamsi'}"
      ]
     },
     "execution_count": 197,
     "metadata": {},
     "output_type": "execute_result"
    }
   ],
   "source": [
    "s2"
   ]
  },
  {
   "cell_type": "code",
   "execution_count": 198,
   "id": "f2dff309",
   "metadata": {},
   "outputs": [],
   "source": [
    "s2.discard(234)"
   ]
  },
  {
   "cell_type": "code",
   "execution_count": 199,
   "id": "e535db4c",
   "metadata": {},
   "outputs": [
    {
     "data": {
      "text/plain": [
       "{(1, 2, 3), 12, 123, 45, 456, 56, 90, 'Vamsi'}"
      ]
     },
     "execution_count": 199,
     "metadata": {},
     "output_type": "execute_result"
    }
   ],
   "source": [
    "s2"
   ]
  },
  {
   "cell_type": "code",
   "execution_count": null,
   "id": "1f2fd40b",
   "metadata": {},
   "outputs": [],
   "source": []
  }
 ],
 "metadata": {
  "kernelspec": {
   "display_name": "Python 3 (ipykernel)",
   "language": "python",
   "name": "python3"
  },
  "language_info": {
   "codemirror_mode": {
    "name": "ipython",
    "version": 3
   },
   "file_extension": ".py",
   "mimetype": "text/x-python",
   "name": "python",
   "nbconvert_exporter": "python",
   "pygments_lexer": "ipython3",
   "version": "3.9.12"
  }
 },
 "nbformat": 4,
 "nbformat_minor": 5
}
